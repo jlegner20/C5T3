{
 "cells": [
  {
   "cell_type": "markdown",
   "metadata": {},
   "source": [
    "<img src=\"Credit One Logo.png\" />"
   ]
  },
  {
   "cell_type": "code",
   "execution_count": 1,
   "metadata": {},
   "outputs": [],
   "source": [
    "import pandas as pd\n",
    "import numpy as np\n",
    "import scipy\n",
    "from math import sqrt\n",
    "import seaborn as sn\n",
    "import matplotlib.pyplot as plt\n",
    "from sklearn.decomposition import PCA\n",
    "from sklearn.preprocessing import OneHotEncoder\n",
    "from sklearn.utils import resample\n",
    "\n",
    "#estimators\n",
    "from sklearn.neural_network import MLPClassifier\n",
    "from sklearn.neighbors import KNeighborsClassifier\n",
    "from sklearn.svm import SVC\n",
    "from sklearn.gaussian_process import GaussianProcessClassifier\n",
    "from sklearn.gaussian_process.kernels import RBF\n",
    "from sklearn.tree import DecisionTreeClassifier\n",
    "from sklearn.ensemble import RandomForestClassifier, AdaBoostClassifier\n",
    "from sklearn.naive_bayes import GaussianNB\n",
    "from sklearn.discriminant_analysis import QuadraticDiscriminantAnalysis\n",
    "\n",
    "h = .02  # step size in the mesh\n",
    "\n",
    "names = [\"Nearest Neighbors\", \"Linear SVM\", \"RBF SVM\", \"Gaussian Process\",\n",
    "         \"Decision Tree\", \"Random Forest\", \"Neural Net\", \"AdaBoost\",\n",
    "         \"Naive Bayes\", \"QDA\"]\n",
    "\n",
    "classifiers = [\n",
    "    KNeighborsClassifier(3),\n",
    "    SVC(kernel=\"linear\", C=0.025),\n",
    "    SVC(gamma=2, C=1),\n",
    "    GaussianProcessClassifier(1.0 * RBF(1.0)),\n",
    "    DecisionTreeClassifier(max_depth=5),\n",
    "    RandomForestClassifier(max_depth=5, n_estimators=10, max_features=1),\n",
    "    MLPClassifier(alpha=1, max_iter=1000),\n",
    "    AdaBoostClassifier(),\n",
    "    GaussianNB(),\n",
    "    QuadraticDiscriminantAnalysis()]\n",
    "\n",
    "#model metrics\n",
    "from sklearn.metrics import confusion_matrix\n",
    "from sklearn.metrics import accuracy_score\n",
    "from sklearn.metrics import precision_score\n",
    "from sklearn.model_selection import cross_val_score\n",
    "from sklearn.metrics import roc_auc_score\n",
    "\n",
    "#cross validation\n",
    "from sklearn.model_selection import train_test_split"
   ]
  },
  {
   "cell_type": "markdown",
   "metadata": {},
   "source": [
    "# Importing Data\n",
    "\n",
    "### Data was preprocessed and features selected during C5T2.  I've chosen to only use features that would be available at the decision point.  History of payments and billed amounts won't yet exist, so we must rely upon on what we know about the customer."
   ]
  },
  {
   "cell_type": "code",
   "execution_count": 2,
   "metadata": {},
   "outputs": [
    {
     "data": {
      "text/html": [
       "<div>\n",
       "<style scoped>\n",
       "    .dataframe tbody tr th:only-of-type {\n",
       "        vertical-align: middle;\n",
       "    }\n",
       "\n",
       "    .dataframe tbody tr th {\n",
       "        vertical-align: top;\n",
       "    }\n",
       "\n",
       "    .dataframe thead th {\n",
       "        text-align: right;\n",
       "    }\n",
       "</style>\n",
       "<table border=\"1\" class=\"dataframe\">\n",
       "  <thead>\n",
       "    <tr style=\"text-align: right;\">\n",
       "      <th></th>\n",
       "      <th>LIMIT_BAL</th>\n",
       "      <th>SEX</th>\n",
       "      <th>EDUCATION</th>\n",
       "      <th>MARRIAGE</th>\n",
       "      <th>AGE</th>\n",
       "      <th>limit_bin</th>\n",
       "      <th>age_bin</th>\n",
       "      <th>default payment next month</th>\n",
       "    </tr>\n",
       "  </thead>\n",
       "  <tbody>\n",
       "    <tr>\n",
       "      <td>0</td>\n",
       "      <td>20000</td>\n",
       "      <td>2</td>\n",
       "      <td>2</td>\n",
       "      <td>1</td>\n",
       "      <td>24</td>\n",
       "      <td>(9999.999, 30000.0]</td>\n",
       "      <td>(20.999, 26.0]</td>\n",
       "      <td>1</td>\n",
       "    </tr>\n",
       "    <tr>\n",
       "      <td>1</td>\n",
       "      <td>120000</td>\n",
       "      <td>2</td>\n",
       "      <td>2</td>\n",
       "      <td>2</td>\n",
       "      <td>26</td>\n",
       "      <td>(100000.0, 140000.0]</td>\n",
       "      <td>(20.999, 26.0]</td>\n",
       "      <td>1</td>\n",
       "    </tr>\n",
       "    <tr>\n",
       "      <td>2</td>\n",
       "      <td>90000</td>\n",
       "      <td>2</td>\n",
       "      <td>2</td>\n",
       "      <td>2</td>\n",
       "      <td>34</td>\n",
       "      <td>(70000.0, 100000.0]</td>\n",
       "      <td>(30.0, 34.0]</td>\n",
       "      <td>0</td>\n",
       "    </tr>\n",
       "    <tr>\n",
       "      <td>3</td>\n",
       "      <td>50000</td>\n",
       "      <td>2</td>\n",
       "      <td>2</td>\n",
       "      <td>1</td>\n",
       "      <td>37</td>\n",
       "      <td>(30000.0, 50000.0]</td>\n",
       "      <td>(34.0, 39.0]</td>\n",
       "      <td>0</td>\n",
       "    </tr>\n",
       "    <tr>\n",
       "      <td>4</td>\n",
       "      <td>50000</td>\n",
       "      <td>1</td>\n",
       "      <td>2</td>\n",
       "      <td>1</td>\n",
       "      <td>57</td>\n",
       "      <td>(30000.0, 50000.0]</td>\n",
       "      <td>(45.0, 79.0]</td>\n",
       "      <td>0</td>\n",
       "    </tr>\n",
       "  </tbody>\n",
       "</table>\n",
       "</div>"
      ],
      "text/plain": [
       "   LIMIT_BAL  SEX  EDUCATION  MARRIAGE  AGE             limit_bin  \\\n",
       "0      20000    2          2         1   24   (9999.999, 30000.0]   \n",
       "1     120000    2          2         2   26  (100000.0, 140000.0]   \n",
       "2      90000    2          2         2   34   (70000.0, 100000.0]   \n",
       "3      50000    2          2         1   37    (30000.0, 50000.0]   \n",
       "4      50000    1          2         1   57    (30000.0, 50000.0]   \n",
       "\n",
       "          age_bin  default payment next month  \n",
       "0  (20.999, 26.0]                           1  \n",
       "1  (20.999, 26.0]                           1  \n",
       "2    (30.0, 34.0]                           0  \n",
       "3    (34.0, 39.0]                           0  \n",
       "4    (45.0, 79.0]                           0  "
      ]
     },
     "execution_count": 2,
     "metadata": {},
     "output_type": "execute_result"
    }
   ],
   "source": [
    "#data\n",
    "rawData = pd.read_csv(r'C:\\Users\\jlegner\\Desktop\\Data Analytics\\Data Analytics Class\\Course 5\\Task 3\\creditModel.csv', header=1)\n",
    "rawData.head()"
   ]
  },
  {
   "cell_type": "code",
   "execution_count": 3,
   "metadata": {},
   "outputs": [
    {
     "data": {
      "text/plain": [
       "<bound method DataFrame.info of        LIMIT_BAL  SEX  EDUCATION  MARRIAGE  AGE             limit_bin  \\\n",
       "0          20000    2          2         1   24   (9999.999, 30000.0]   \n",
       "1         120000    2          2         2   26  (100000.0, 140000.0]   \n",
       "2          90000    2          2         2   34   (70000.0, 100000.0]   \n",
       "3          50000    2          2         1   37    (30000.0, 50000.0]   \n",
       "4          50000    1          2         1   57    (30000.0, 50000.0]   \n",
       "...          ...  ...        ...       ...  ...                   ...   \n",
       "29995     220000    1          3         1   39  (210000.0, 270000.0]   \n",
       "29996     150000    1          3         2   43  (140000.0, 180000.0]   \n",
       "29997      30000    1          2         2   37   (9999.999, 30000.0]   \n",
       "29998      80000    1          3         1   41   (70000.0, 100000.0]   \n",
       "29999      50000    1          2         1   46    (30000.0, 50000.0]   \n",
       "\n",
       "              age_bin  default payment next month  \n",
       "0      (20.999, 26.0]                           1  \n",
       "1      (20.999, 26.0]                           1  \n",
       "2        (30.0, 34.0]                           0  \n",
       "3        (34.0, 39.0]                           0  \n",
       "4        (45.0, 79.0]                           0  \n",
       "...               ...                         ...  \n",
       "29995    (34.0, 39.0]                           0  \n",
       "29996    (39.0, 45.0]                           0  \n",
       "29997    (34.0, 39.0]                           1  \n",
       "29998    (39.0, 45.0]                           1  \n",
       "29999    (45.0, 79.0]                           1  \n",
       "\n",
       "[30000 rows x 8 columns]>"
      ]
     },
     "execution_count": 3,
     "metadata": {},
     "output_type": "execute_result"
    }
   ],
   "source": [
    "rawData.info"
   ]
  },
  {
   "cell_type": "code",
   "execution_count": 4,
   "metadata": {},
   "outputs": [
    {
     "data": {
      "text/plain": [
       "0    23364\n",
       "1     6636\n",
       "Name: default payment next month, dtype: int64"
      ]
     },
     "execution_count": 4,
     "metadata": {},
     "output_type": "execute_result"
    }
   ],
   "source": [
    "rawData['default payment next month'].value_counts()"
   ]
  },
  {
   "cell_type": "code",
   "execution_count": 5,
   "metadata": {},
   "outputs": [
    {
     "data": {
      "text/plain": [
       "1    23364\n",
       "0    23364\n",
       "Name: default payment next month, dtype: int64"
      ]
     },
     "execution_count": 5,
     "metadata": {},
     "output_type": "execute_result"
    }
   ],
   "source": [
    "#Upsample\n",
    "rawData_majority = rawData[rawData['default payment next month']==0]\n",
    "rawData_minority = rawData[rawData['default payment next month']==1]\n",
    "\n",
    "rawData_minority_upsampled = resample(rawData_minority, \n",
    "                                     replace=True,     # sample with replacement\n",
    "                                     n_samples=23364,    # to match majority class\n",
    "                                     random_state=123) # reproducible results\n",
    "\n",
    "rawData_upsampled = pd.concat([rawData_majority, rawData_minority_upsampled])\n",
    "\n",
    "rawData_upsampled['default payment next month'].value_counts()"
   ]
  },
  {
   "cell_type": "markdown",
   "metadata": {},
   "source": [
    "# Set Dependent/Independent and Train/Test Split"
   ]
  },
  {
   "cell_type": "code",
   "execution_count": 6,
   "metadata": {},
   "outputs": [
    {
     "name": "stdout",
     "output_type": "stream",
     "text": [
      "Summary of feature sample\n"
     ]
    },
    {
     "data": {
      "text/html": [
       "<div>\n",
       "<style scoped>\n",
       "    .dataframe tbody tr th:only-of-type {\n",
       "        vertical-align: middle;\n",
       "    }\n",
       "\n",
       "    .dataframe tbody tr th {\n",
       "        vertical-align: top;\n",
       "    }\n",
       "\n",
       "    .dataframe thead th {\n",
       "        text-align: right;\n",
       "    }\n",
       "</style>\n",
       "<table border=\"1\" class=\"dataframe\">\n",
       "  <thead>\n",
       "    <tr style=\"text-align: right;\">\n",
       "      <th></th>\n",
       "      <th>LIMIT_BAL</th>\n",
       "      <th>SEX</th>\n",
       "      <th>EDUCATION</th>\n",
       "      <th>MARRIAGE</th>\n",
       "      <th>AGE</th>\n",
       "      <th>limit_bin</th>\n",
       "      <th>age_bin</th>\n",
       "    </tr>\n",
       "  </thead>\n",
       "  <tbody>\n",
       "    <tr>\n",
       "      <td>2</td>\n",
       "      <td>90000</td>\n",
       "      <td>2</td>\n",
       "      <td>2</td>\n",
       "      <td>2</td>\n",
       "      <td>34</td>\n",
       "      <td>(70000.0, 100000.0]</td>\n",
       "      <td>(30.0, 34.0]</td>\n",
       "    </tr>\n",
       "    <tr>\n",
       "      <td>3</td>\n",
       "      <td>50000</td>\n",
       "      <td>2</td>\n",
       "      <td>2</td>\n",
       "      <td>1</td>\n",
       "      <td>37</td>\n",
       "      <td>(30000.0, 50000.0]</td>\n",
       "      <td>(34.0, 39.0]</td>\n",
       "    </tr>\n",
       "    <tr>\n",
       "      <td>4</td>\n",
       "      <td>50000</td>\n",
       "      <td>1</td>\n",
       "      <td>2</td>\n",
       "      <td>1</td>\n",
       "      <td>57</td>\n",
       "      <td>(30000.0, 50000.0]</td>\n",
       "      <td>(45.0, 79.0]</td>\n",
       "    </tr>\n",
       "    <tr>\n",
       "      <td>5</td>\n",
       "      <td>50000</td>\n",
       "      <td>1</td>\n",
       "      <td>1</td>\n",
       "      <td>2</td>\n",
       "      <td>37</td>\n",
       "      <td>(30000.0, 50000.0]</td>\n",
       "      <td>(34.0, 39.0]</td>\n",
       "    </tr>\n",
       "    <tr>\n",
       "      <td>6</td>\n",
       "      <td>500000</td>\n",
       "      <td>1</td>\n",
       "      <td>1</td>\n",
       "      <td>2</td>\n",
       "      <td>29</td>\n",
       "      <td>(360000.0, 1000000.0]</td>\n",
       "      <td>(26.0, 30.0]</td>\n",
       "    </tr>\n",
       "  </tbody>\n",
       "</table>\n",
       "</div>"
      ],
      "text/plain": [
       "   LIMIT_BAL  SEX  EDUCATION  MARRIAGE  AGE              limit_bin  \\\n",
       "2      90000    2          2         2   34    (70000.0, 100000.0]   \n",
       "3      50000    2          2         1   37     (30000.0, 50000.0]   \n",
       "4      50000    1          2         1   57     (30000.0, 50000.0]   \n",
       "5      50000    1          1         2   37     (30000.0, 50000.0]   \n",
       "6     500000    1          1         2   29  (360000.0, 1000000.0]   \n",
       "\n",
       "        age_bin  \n",
       "2  (30.0, 34.0]  \n",
       "3  (34.0, 39.0]  \n",
       "4  (45.0, 79.0]  \n",
       "5  (34.0, 39.0]  \n",
       "6  (26.0, 30.0]  "
      ]
     },
     "execution_count": 6,
     "metadata": {},
     "output_type": "execute_result"
    }
   ],
   "source": [
    "#features\n",
    "features = rawData_upsampled.iloc[:,0:7]\n",
    "print('Summary of feature sample')\n",
    "features.head()"
   ]
  },
  {
   "cell_type": "code",
   "execution_count": 7,
   "metadata": {},
   "outputs": [
    {
     "data": {
      "text/plain": [
       "LIMIT_BAL       int64\n",
       "SEX          category\n",
       "EDUCATION    category\n",
       "MARRIAGE     category\n",
       "AGE             int64\n",
       "limit_bin    category\n",
       "age_bin      category\n",
       "dtype: object"
      ]
     },
     "execution_count": 7,
     "metadata": {},
     "output_type": "execute_result"
    }
   ],
   "source": [
    "features['SEX'] = pd.Categorical(features.SEX)\n",
    "features['EDUCATION'] = pd.Categorical(features.EDUCATION)\n",
    "features['MARRIAGE'] = pd.Categorical(features.MARRIAGE)\n",
    "features['limit_bin'] = pd.Categorical(features.limit_bin)\n",
    "features['age_bin'] = pd.Categorical(features.age_bin)\n",
    "features.dtypes"
   ]
  },
  {
   "cell_type": "code",
   "execution_count": 8,
   "metadata": {},
   "outputs": [
    {
     "name": "stdout",
     "output_type": "stream",
     "text": [
      "2        0\n",
      "3        0\n",
      "4        0\n",
      "5        0\n",
      "6        0\n",
      "        ..\n",
      "2243     1\n",
      "27216    1\n",
      "23617    1\n",
      "1569     1\n",
      "5626     1\n",
      "Name: default payment next month, Length: 46728, dtype: int64\n",
      "[0, 0, 0, 0, 0, ..., 1, 1, 1, 1, 1]\n",
      "Length: 46728\n",
      "Categories (2, int64): [0, 1]\n"
     ]
    }
   ],
   "source": [
    "#dependent variable\n",
    "depVar = rawData_upsampled['default payment next month']\n",
    "depVarCat = pd.Categorical(depVar)\n",
    "print(depVar)\n",
    "print(depVarCat)"
   ]
  },
  {
   "cell_type": "code",
   "execution_count": null,
   "metadata": {},
   "outputs": [],
   "source": []
  },
  {
   "cell_type": "markdown",
   "metadata": {},
   "source": [
    "# Covariance"
   ]
  },
  {
   "cell_type": "code",
   "execution_count": 9,
   "metadata": {},
   "outputs": [
    {
     "data": {
      "image/png": "[encoded data removed]",
      "text/plain": [
       "<Figure size 432x288 with 2 Axes>"
      ]
     },
     "metadata": {
      "needs_background": "light"
     },
     "output_type": "display_data"
    }
   ],
   "source": [
    "sn.heatmap(rawData_upsampled.corr(),cmap=plt.cm.Reds,annot=True)\n",
    "plt.title('Heatmap displaying the relationship between\\nthe features of the data',\n",
    "         fontsize=11)\n",
    "plt.show()"
   ]
  },
  {
   "cell_type": "markdown",
   "metadata": {},
   "source": [
    "### Noted that none of our variables exhibit a high enough covariance to require them to be removed."
   ]
  },
  {
   "cell_type": "markdown",
   "metadata": {},
   "source": [
    "# EDA"
   ]
  },
  {
   "cell_type": "code",
   "execution_count": null,
   "metadata": {},
   "outputs": [],
   "source": []
  },
  {
   "cell_type": "code",
   "execution_count": null,
   "metadata": {},
   "outputs": [],
   "source": []
  },
  {
   "cell_type": "code",
   "execution_count": null,
   "metadata": {},
   "outputs": [],
   "source": []
  },
  {
   "cell_type": "markdown",
   "metadata": {},
   "source": [
    "# Feature Engineering"
   ]
  },
  {
   "cell_type": "code",
   "execution_count": 10,
   "metadata": {},
   "outputs": [
    {
     "name": "stdout",
     "output_type": "stream",
     "text": [
      "      SEX EDUCATION MARRIAGE  age_bin_(20.999, 26.0]  age_bin_(26.0, 30.0]  \\\n",
      "2       2         2        2                       0                     0   \n",
      "3       2         2        1                       0                     0   \n",
      "4       1         2        1                       0                     0   \n",
      "5       1         1        2                       0                     0   \n",
      "6       1         1        2                       0                     1   \n",
      "...    ..       ...      ...                     ...                   ...   \n",
      "2243    2         3        2                       0                     1   \n",
      "27216   1         1        2                       0                     0   \n",
      "23617   2         2        1                       0                     0   \n",
      "1569    2         2        2                       1                     0   \n",
      "5626    1         2        1                       0                     0   \n",
      "\n",
      "       age_bin_(30.0, 34.0]  age_bin_(34.0, 39.0]  age_bin_(39.0, 45.0]  \\\n",
      "2                         1                     0                     0   \n",
      "3                         0                     1                     0   \n",
      "4                         0                     0                     0   \n",
      "5                         0                     1                     0   \n",
      "6                         0                     0                     0   \n",
      "...                     ...                   ...                   ...   \n",
      "2243                      0                     0                     0   \n",
      "27216                     0                     0                     0   \n",
      "23617                     0                     0                     1   \n",
      "1569                      0                     0                     0   \n",
      "5626                      0                     0                     0   \n",
      "\n",
      "       age_bin_(45.0, 79.0]  limit_bin_(100000.0, 140000.0]  \\\n",
      "2                         0                               0   \n",
      "3                         0                               0   \n",
      "4                         1                               0   \n",
      "5                         0                               0   \n",
      "6                         0                               0   \n",
      "...                     ...                             ...   \n",
      "2243                      0                               0   \n",
      "27216                     1                               1   \n",
      "23617                     0                               0   \n",
      "1569                      0                               0   \n",
      "5626                      1                               0   \n",
      "\n",
      "       limit_bin_(140000.0, 180000.0]  limit_bin_(180000.0, 210000.0]  \\\n",
      "2                                   0                               0   \n",
      "3                                   0                               0   \n",
      "4                                   0                               0   \n",
      "5                                   0                               0   \n",
      "6                                   0                               0   \n",
      "...                               ...                             ...   \n",
      "2243                                0                               0   \n",
      "27216                               0                               0   \n",
      "23617                               0                               0   \n",
      "1569                                0                               0   \n",
      "5626                                0                               0   \n",
      "\n",
      "       limit_bin_(210000.0, 270000.0]  limit_bin_(270000.0, 360000.0]  \\\n",
      "2                                   0                               0   \n",
      "3                                   0                               0   \n",
      "4                                   0                               0   \n",
      "5                                   0                               0   \n",
      "6                                   0                               0   \n",
      "...                               ...                             ...   \n",
      "2243                                0                               0   \n",
      "27216                               0                               0   \n",
      "23617                               0                               0   \n",
      "1569                                0                               0   \n",
      "5626                                0                               1   \n",
      "\n",
      "       limit_bin_(30000.0, 50000.0]  limit_bin_(360000.0, 1000000.0]  \\\n",
      "2                                 0                                0   \n",
      "3                                 1                                0   \n",
      "4                                 1                                0   \n",
      "5                                 1                                0   \n",
      "6                                 0                                1   \n",
      "...                             ...                              ...   \n",
      "2243                              0                                0   \n",
      "27216                             0                                0   \n",
      "23617                             0                                0   \n",
      "1569                              0                                0   \n",
      "5626                              0                                0   \n",
      "\n",
      "       limit_bin_(50000.0, 70000.0]  limit_bin_(70000.0, 100000.0]  \\\n",
      "2                                 0                              1   \n",
      "3                                 0                              0   \n",
      "4                                 0                              0   \n",
      "5                                 0                              0   \n",
      "6                                 0                              0   \n",
      "...                             ...                            ...   \n",
      "2243                              0                              1   \n",
      "27216                             0                              0   \n",
      "23617                             0                              0   \n",
      "1569                              0                              0   \n",
      "5626                              0                              0   \n",
      "\n",
      "       limit_bin_(9999.999, 30000.0]  \n",
      "2                                  0  \n",
      "3                                  0  \n",
      "4                                  0  \n",
      "5                                  0  \n",
      "6                                  0  \n",
      "...                              ...  \n",
      "2243                               0  \n",
      "27216                              0  \n",
      "23617                              1  \n",
      "1569                               1  \n",
      "5626                               0  \n",
      "\n",
      "[46728 rows x 19 columns]\n"
     ]
    }
   ],
   "source": [
    "featuresDummy=pd.get_dummies(features, columns=['age_bin', 'limit_bin'])\n",
    "featuresClean=featuresDummy.drop(['LIMIT_BAL', 'AGE'], axis=1)\n",
    "print(featuresClean)"
   ]
  },
  {
   "cell_type": "code",
   "execution_count": 13,
   "metadata": {},
   "outputs": [
    {
     "name": "stdout",
     "output_type": "stream",
     "text": [
      "(32709, 19) (14019, 19)\n"
     ]
    }
   ],
   "source": [
    "X_train, X_test, y_train, y_test = train_test_split(featuresClean, depVar, test_size=.30)\n",
    "print(X_train.shape, X_test.shape)"
   ]
  },
  {
   "cell_type": "code",
   "execution_count": 35,
   "metadata": {},
   "outputs": [
    {
     "name": "stdout",
     "output_type": "stream",
     "text": [
      "Explained variance by each component: [0.21864574 0.11568819 0.08807499 0.06898585 0.05948626 0.05576506\n",
      " 0.05432822 0.05037858 0.04058413 0.04019123 0.03627449 0.03477298\n",
      " 0.03402947 0.03007752 0.02817478]\n"
     ]
    }
   ],
   "source": [
    "pca = PCA(.95)\n",
    "X_train_pca = pca.fit_transform(X_train)\n",
    "X_test_pca = pca.transform(X_test)\n",
    "y_train_pca=y_train\n",
    "y_test_pca=y_test\n",
    "print('Explained variance by each component: %s'\n",
    "      % pca.explained_variance_ratio_)"
   ]
  },
  {
   "cell_type": "code",
   "execution_count": null,
   "metadata": {},
   "outputs": [],
   "source": []
  },
  {
   "cell_type": "markdown",
   "metadata": {},
   "source": [
    "# Modeling"
   ]
  },
  {
   "cell_type": "code",
   "execution_count": 49,
   "metadata": {},
   "outputs": [],
   "source": [
    "#Models\n",
    "modelKNN = KNeighborsClassifier(algorithm=\"brute\", n_neighbors=20)\n",
    "modelRF = RandomForestClassifier(criterion=\"entropy\", class_weight=\"balanced\")\n",
    "modelSVC = SVC()"
   ]
  },
  {
   "cell_type": "markdown",
   "metadata": {},
   "source": [
    "### Using PCA"
   ]
  },
  {
   "cell_type": "code",
   "execution_count": 40,
   "metadata": {},
   "outputs": [
    {
     "name": "stderr",
     "output_type": "stream",
     "text": [
      "C:\\Users\\jlegner\\AppData\\Local\\Continuum\\anaconda3\\lib\\site-packages\\sklearn\\ensemble\\forest.py:245: FutureWarning: The default value of n_estimators will change from 10 in version 0.20 to 100 in 0.22.\n",
      "  \"10 in version 0.20 to 100 in 0.22.\", FutureWarning)\n",
      "C:\\Users\\jlegner\\AppData\\Local\\Continuum\\anaconda3\\lib\\site-packages\\sklearn\\model_selection\\_split.py:1978: FutureWarning: The default value of cv will change from 3 to 5 in version 0.22. Specify it explicitly to silence this warning.\n",
      "  warnings.warn(CV_WARNING, FutureWarning)\n"
     ]
    },
    {
     "name": "stdout",
     "output_type": "stream",
     "text": [
      "[0.59739545 0.60332019 0.59823886]\n"
     ]
    }
   ],
   "source": [
    "modelRF.fit(X_train_pca, y_train_pca)\n",
    "print(cross_val_score(modelRF, X_train_pca, y_train_pca))\n",
    "modelRF.score(X_train_pca,y_train_pca)\n",
    "y_pred_RF = modelRF.predict(X_test_pca)"
   ]
  },
  {
   "cell_type": "code",
   "execution_count": 41,
   "metadata": {},
   "outputs": [
    {
     "name": "stdout",
     "output_type": "stream",
     "text": [
      "[[3981 3064]\n",
      " [2514 4460]]\n",
      "0.602111420215422\n",
      "0.6022999143325212\n"
     ]
    }
   ],
   "source": [
    "cmRF = confusion_matrix(y_test_pca, y_pred_RF)\n",
    "print(cmRF)\n",
    "print(accuracy_score(y_test_pca, y_pred_RF))\n",
    "print(roc_auc_score(y_test_pca, y_pred_RF))"
   ]
  },
  {
   "cell_type": "code",
   "execution_count": 50,
   "metadata": {},
   "outputs": [
    {
     "name": "stderr",
     "output_type": "stream",
     "text": [
      "C:\\Users\\jlegner\\AppData\\Local\\Continuum\\anaconda3\\lib\\site-packages\\sklearn\\model_selection\\_split.py:1978: FutureWarning: The default value of cv will change from 3 to 5 in version 0.22. Specify it explicitly to silence this warning.\n",
      "  warnings.warn(CV_WARNING, FutureWarning)\n"
     ]
    },
    {
     "name": "stdout",
     "output_type": "stream",
     "text": [
      "[0.58134629 0.58754471 0.57980187]\n"
     ]
    }
   ],
   "source": [
    "modelKNN.fit(X_train_pca, y_train_pca)\n",
    "print(cross_val_score(modelKNN, X_train_pca, y_train_pca))\n",
    "modelKNN.score(X_train_pca,y_train_pca)\n",
    "y_pred_KNN = modelKNN.predict(X_test_pca)"
   ]
  },
  {
   "cell_type": "code",
   "execution_count": 51,
   "metadata": {},
   "outputs": [
    {
     "name": "stdout",
     "output_type": "stream",
     "text": [
      "[[4431 2614]\n",
      " [3216 3758]]\n",
      "0.5841358156787217\n",
      "0.5839076623036431\n"
     ]
    }
   ],
   "source": [
    "cmKNN = confusion_matrix(y_test_pca, y_pred_KNN)\n",
    "print(cmKNN)\n",
    "print(accuracy_score(y_test_pca, y_pred_KNN))\n",
    "print(roc_auc_score(y_test_pca, y_pred_KNN))"
   ]
  },
  {
   "cell_type": "code",
   "execution_count": 54,
   "metadata": {},
   "outputs": [
    {
     "name": "stderr",
     "output_type": "stream",
     "text": [
      "C:\\Users\\jlegner\\AppData\\Local\\Continuum\\anaconda3\\lib\\site-packages\\sklearn\\svm\\base.py:193: FutureWarning: The default value of gamma will change from 'auto' to 'scale' in version 0.22 to account better for unscaled features. Set gamma explicitly to 'auto' or 'scale' to avoid this warning.\n",
      "  \"avoid this warning.\", FutureWarning)\n",
      "C:\\Users\\jlegner\\AppData\\Local\\Continuum\\anaconda3\\lib\\site-packages\\sklearn\\model_selection\\_split.py:1978: FutureWarning: The default value of cv will change from 3 to 5 in version 0.22. Specify it explicitly to silence this warning.\n",
      "  warnings.warn(CV_WARNING, FutureWarning)\n",
      "C:\\Users\\jlegner\\AppData\\Local\\Continuum\\anaconda3\\lib\\site-packages\\sklearn\\svm\\base.py:193: FutureWarning: The default value of gamma will change from 'auto' to 'scale' in version 0.22 to account better for unscaled features. Set gamma explicitly to 'auto' or 'scale' to avoid this warning.\n",
      "  \"avoid this warning.\", FutureWarning)\n",
      "C:\\Users\\jlegner\\AppData\\Local\\Continuum\\anaconda3\\lib\\site-packages\\sklearn\\svm\\base.py:193: FutureWarning: The default value of gamma will change from 'auto' to 'scale' in version 0.22 to account better for unscaled features. Set gamma explicitly to 'auto' or 'scale' to avoid this warning.\n",
      "  \"avoid this warning.\", FutureWarning)\n",
      "C:\\Users\\jlegner\\AppData\\Local\\Continuum\\anaconda3\\lib\\site-packages\\sklearn\\svm\\base.py:193: FutureWarning: The default value of gamma will change from 'auto' to 'scale' in version 0.22 to account better for unscaled features. Set gamma explicitly to 'auto' or 'scale' to avoid this warning.\n",
      "  \"avoid this warning.\", FutureWarning)\n"
     ]
    },
    {
     "name": "stdout",
     "output_type": "stream",
     "text": [
      "[0.57960382 0.58350913 0.57842598]\n"
     ]
    }
   ],
   "source": [
    "modelSVC.fit(X_train_pca, y_train_pca)\n",
    "print(cross_val_score(modelSVC, X_train_pca, y_train_pca))\n",
    "modelSVC.score(X_train_pca,y_train_pca)\n",
    "y_pred_SVC = modelSVC.predict(X_test_pca)"
   ]
  },
  {
   "cell_type": "code",
   "execution_count": 55,
   "metadata": {},
   "outputs": [
    {
     "name": "stdout",
     "output_type": "stream",
     "text": [
      "[[4241 2804]\n",
      " [3098 3876]]\n",
      "0.578999928668236\n",
      "0.5788829156170247\n"
     ]
    }
   ],
   "source": [
    "cmSVC = confusion_matrix(y_test_pca, y_pred_SVC)\n",
    "print(cmSVC)\n",
    "print(accuracy_score(y_test_pca, y_pred_SVC))\n",
    "print(roc_auc_score(y_test_pca, y_pred_SVC))"
   ]
  },
  {
   "cell_type": "code",
   "execution_count": null,
   "metadata": {},
   "outputs": [],
   "source": []
  }
 ],
 "metadata": {
  "kernelspec": {
   "display_name": "Python 3",
   "language": "python",
   "name": "python3"
  },
  "language_info": {
   "codemirror_mode": {
    "name": "ipython",
    "version": 3
   },
   "file_extension": ".py",
   "mimetype": "text/x-python",
   "name": "python",
   "nbconvert_exporter": "python",
   "pygments_lexer": "ipython3",
   "version": "3.7.4"
  }
 },
 "nbformat": 4,
 "nbformat_minor": 2
}
